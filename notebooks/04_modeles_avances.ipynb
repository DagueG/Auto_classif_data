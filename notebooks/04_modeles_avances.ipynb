{
 "cells": [
  {
   "cell_type": "code",
   "execution_count": 1,
   "id": "ce0441ef",
   "metadata": {},
   "outputs": [
    {
     "name": "stdout",
     "output_type": "stream",
     "text": [
      "✅ Données chargées : (1470, 39) (1470,)\n"
     ]
    }
   ],
   "source": [
    "import pandas as pd\n",
    "import numpy as np\n",
    "from pathlib import Path\n",
    "\n",
    "from sklearn.model_selection import train_test_split, StratifiedKFold, cross_validate\n",
    "from sklearn.linear_model import LogisticRegression\n",
    "from sklearn.ensemble import RandomForestClassifier\n",
    "from sklearn.utils import resample\n",
    "from sklearn.metrics import classification_report, ConfusionMatrixDisplay\n",
    "from sklearn.pipeline import make_pipeline\n",
    "from sklearn.preprocessing import StandardScaler\n",
    "import seaborn as sns\n",
    "import matplotlib.pyplot as plt\n",
    "\n",
    "DATA_PROCESSED = Path(\"../data/processed\")\n",
    "\n",
    "X = pd.read_parquet(DATA_PROCESSED / \"X_encoded.parquet\")\n",
    "y = pd.read_parquet(DATA_PROCESSED / \"y_target.parquet\")[\"target\"]\n",
    "\n",
    "print(\"✅ Données chargées :\", X.shape, y.shape)\n"
   ]
  },
  {
   "cell_type": "code",
   "execution_count": 2,
   "id": "c48b6bda",
   "metadata": {},
   "outputs": [
    {
     "name": "stdout",
     "output_type": "stream",
     "text": [
      "✅ Répartition :\n",
      "Train : (1176, 39) | Test : (294, 39)\n",
      "target\n",
      "0    0.838435\n",
      "1    0.161565\n",
      "Name: proportion, dtype: float64\n"
     ]
    }
   ],
   "source": [
    "X_train, X_test, y_train, y_test = train_test_split(\n",
    "    X, y, test_size=0.2, random_state=42, stratify=y\n",
    ")\n",
    "\n",
    "print(\"✅ Répartition :\")\n",
    "print(\"Train :\", X_train.shape, \"| Test :\", X_test.shape)\n",
    "print(y_train.value_counts(normalize=True))\n"
   ]
  },
  {
   "cell_type": "code",
   "execution_count": 3,
   "id": "fe79d5fe",
   "metadata": {},
   "outputs": [
    {
     "name": "stdout",
     "output_type": "stream",
     "text": [
      "✅ Après équilibrage :\n",
      "target\n",
      "0    986\n",
      "1    986\n",
      "Name: count, dtype: int64\n"
     ]
    }
   ],
   "source": [
    "# Concatène X et y pour échantillonnage\n",
    "train_data = pd.concat([X_train, y_train], axis=1)\n",
    "\n",
    "# Sépare les deux classes\n",
    "majority = train_data[train_data.target == 0]\n",
    "minority = train_data[train_data.target == 1]\n",
    "\n",
    "# Sur-échantillonnage de la classe minoritaire\n",
    "minority_upsampled = resample(\n",
    "    minority,\n",
    "    replace=True,\n",
    "    n_samples=len(majority),\n",
    "    random_state=42\n",
    ")\n",
    "\n",
    "train_balanced = pd.concat([majority, minority_upsampled])\n",
    "X_train_bal = train_balanced.drop(\"target\", axis=1)\n",
    "y_train_bal = train_balanced[\"target\"]\n",
    "\n",
    "print(\"✅ Après équilibrage :\")\n",
    "print(y_train_bal.value_counts())\n"
   ]
  },
  {
   "cell_type": "code",
   "execution_count": 4,
   "id": "dc319c32",
   "metadata": {},
   "outputs": [
    {
     "name": "stdout",
     "output_type": "stream",
     "text": [
      "🔹 Régression Logistique - Cross Validation\n",
      "test_accuracy: 0.778 ± 0.009\n",
      "test_precision: 0.771 ± 0.014\n",
      "test_recall: 0.792 ± 0.015\n"
     ]
    }
   ],
   "source": [
    "log_reg = make_pipeline(\n",
    "    StandardScaler(),\n",
    "    LogisticRegression(max_iter=2000, random_state=42)\n",
    ")\n",
    "\n",
    "cv = StratifiedKFold(n_splits=5, shuffle=True, random_state=42)\n",
    "scores_log = cross_validate(\n",
    "    log_reg, X_train_bal, y_train_bal,\n",
    "    cv=cv, scoring=[\"accuracy\", \"precision\", \"recall\"]\n",
    ")\n",
    "\n",
    "print(\"🔹 Régression Logistique - Cross Validation\")\n",
    "for metric in scores_log:\n",
    "    if \"test\" in metric:\n",
    "        print(f\"{metric}: {scores_log[metric].mean():.3f} ± {scores_log[metric].std():.3f}\")\n"
   ]
  },
  {
   "cell_type": "code",
   "execution_count": 5,
   "id": "03ef12f4",
   "metadata": {},
   "outputs": [
    {
     "name": "stdout",
     "output_type": "stream",
     "text": [
      "🔹 Random Forest - Cross Validation\n",
      "test_accuracy: 0.861 ± 0.009\n",
      "test_precision: 0.844 ± 0.151\n",
      "test_recall: 0.184 ± 0.058\n"
     ]
    }
   ],
   "source": [
    "rf = RandomForestClassifier(\n",
    "    n_estimators=300, \n",
    "    max_depth=None, \n",
    "    random_state=42,\n",
    "    class_weight=\"balanced_subsample\",\n",
    "    n_jobs=-1\n",
    ")\n",
    "\n",
    "scores_rf = cross_validate(\n",
    "    rf, X_train, y_train,\n",
    "    cv=cv, scoring=[\"accuracy\", \"precision\", \"recall\"]\n",
    ")\n",
    "\n",
    "print(\"🔹 Random Forest - Cross Validation\")\n",
    "for metric in scores_rf:\n",
    "    if \"test\" in metric:\n",
    "        print(f\"{metric}: {scores_rf[metric].mean():.3f} ± {scores_rf[metric].std():.3f}\")\n"
   ]
  },
  {
   "cell_type": "code",
   "execution_count": 6,
   "id": "d3155177",
   "metadata": {},
   "outputs": [
    {
     "name": "stdout",
     "output_type": "stream",
     "text": [
      "🔹 Logistic Regression (test set)\n",
      "              precision    recall  f1-score   support\n",
      "\n",
      "           0       0.93      0.78      0.85       247\n",
      "           1       0.38      0.70      0.49        47\n",
      "\n",
      "    accuracy                           0.77       294\n",
      "   macro avg       0.66      0.74      0.67       294\n",
      "weighted avg       0.84      0.77      0.79       294\n",
      "\n",
      "🔹 Random Forest (test set)\n",
      "              precision    recall  f1-score   support\n",
      "\n",
      "           0       0.85      0.98      0.91       247\n",
      "           1       0.45      0.11      0.17        47\n",
      "\n",
      "    accuracy                           0.84       294\n",
      "   macro avg       0.65      0.54      0.54       294\n",
      "weighted avg       0.79      0.84      0.79       294\n",
      "\n"
     ]
    },
    {
     "data": {
      "image/png": "[encoded data removed]",
      "text/plain": [
       "<Figure size 1000x400 with 4 Axes>"
      ]
     },
     "metadata": {},
     "output_type": "display_data"
    }
   ],
   "source": [
    "# Entraînement final sur tout le train équilibré\n",
    "log_reg.fit(X_train_bal, y_train_bal)\n",
    "rf.fit(X_train, y_train)\n",
    "\n",
    "# Prédictions sur le test initial (non équilibré)\n",
    "y_pred_log = log_reg.predict(X_test)\n",
    "y_pred_rf = rf.predict(X_test)\n",
    "\n",
    "print(\"🔹 Logistic Regression (test set)\")\n",
    "print(classification_report(y_test, y_pred_log))\n",
    "\n",
    "print(\"🔹 Random Forest (test set)\")\n",
    "print(classification_report(y_test, y_pred_rf))\n",
    "\n",
    "# Matrices de confusion\n",
    "fig, ax = plt.subplots(1, 2, figsize=(10,4))\n",
    "ConfusionMatrixDisplay.from_estimator(log_reg, X_test, y_test, cmap=\"Blues\", ax=ax[0])\n",
    "ax[0].set_title(\"Régression Logistique\")\n",
    "ConfusionMatrixDisplay.from_estimator(rf, X_test, y_test, cmap=\"Blues\", ax=ax[1])\n",
    "ax[1].set_title(\"Random Forest\")\n",
    "plt.tight_layout()\n",
    "plt.show()\n"
   ]
  },
  {
   "cell_type": "code",
   "execution_count": 7,
   "id": "31f6e52b",
   "metadata": {},
   "outputs": [
    {
     "data": {
      "text/html": [
       "<div>\n",
       "<style scoped>\n",
       "    .dataframe tbody tr th:only-of-type {\n",
       "        vertical-align: middle;\n",
       "    }\n",
       "\n",
       "    .dataframe tbody tr th {\n",
       "        vertical-align: top;\n",
       "    }\n",
       "\n",
       "    .dataframe thead th {\n",
       "        text-align: right;\n",
       "    }\n",
       "</style>\n",
       "<table border=\"1\" class=\"dataframe\">\n",
       "  <thead>\n",
       "    <tr style=\"text-align: right;\">\n",
       "      <th></th>\n",
       "      <th>Accuracy</th>\n",
       "      <th>Precision</th>\n",
       "      <th>Recall</th>\n",
       "    </tr>\n",
       "    <tr>\n",
       "      <th>Modèle</th>\n",
       "      <th></th>\n",
       "      <th></th>\n",
       "      <th></th>\n",
       "    </tr>\n",
       "  </thead>\n",
       "  <tbody>\n",
       "    <tr>\n",
       "      <th>Logistique</th>\n",
       "      <td>0.778</td>\n",
       "      <td>0.771</td>\n",
       "      <td>0.792</td>\n",
       "    </tr>\n",
       "    <tr>\n",
       "      <th>RandomForest</th>\n",
       "      <td>0.861</td>\n",
       "      <td>0.844</td>\n",
       "      <td>0.184</td>\n",
       "    </tr>\n",
       "  </tbody>\n",
       "</table>\n",
       "</div>"
      ],
      "text/plain": [
       "              Accuracy  Precision  Recall\n",
       "Modèle                                   \n",
       "Logistique       0.778      0.771   0.792\n",
       "RandomForest     0.861      0.844   0.184"
      ]
     },
     "metadata": {},
     "output_type": "display_data"
    },
    {
     "data": {
      "image/png": "[encoded data removed]",
      "text/plain": [
       "<Figure size 640x480 with 1 Axes>"
      ]
     },
     "metadata": {},
     "output_type": "display_data"
    }
   ],
   "source": [
    "summary = pd.DataFrame({\n",
    "    \"Modèle\": [\"Logistique\", \"RandomForest\"],\n",
    "    \"Accuracy\": [\n",
    "        scores_log[\"test_accuracy\"].mean(),\n",
    "        scores_rf[\"test_accuracy\"].mean()\n",
    "    ],\n",
    "    \"Precision\": [\n",
    "        scores_log[\"test_precision\"].mean(),\n",
    "        scores_rf[\"test_precision\"].mean()\n",
    "    ],\n",
    "    \"Recall\": [\n",
    "        scores_log[\"test_recall\"].mean(),\n",
    "        scores_rf[\"test_recall\"].mean()\n",
    "    ]\n",
    "})\n",
    "summary.set_index(\"Modèle\", inplace=True)\n",
    "display(summary.round(3))\n",
    "\n",
    "sns.barplot(data=summary.reset_index().melt(id_vars=\"Modèle\"), x=\"Modèle\", y=\"value\", hue=\"variable\")\n",
    "plt.title(\"Scores moyens en validation croisée\")\n",
    "plt.ylabel(\"Score moyen\")\n",
    "plt.show()\n"
   ]
  },
  {
   "cell_type": "code",
   "execution_count": 8,
   "id": "c0e51fbe",
   "metadata": {},
   "outputs": [],
   "source": [
    "X_train_bal.to_parquet(\"../data/processed/X_train_bal.parquet\", index=False)\n",
    "y_train_bal.to_frame(\"target\").to_parquet(\"../data/processed/y_train_bal.parquet\", index=False)\n",
    "X_test.to_parquet(\"../data/processed/X_test.parquet\", index=False)\n",
    "y_test.to_frame(\"target\").to_parquet(\"../data/processed/y_test.parquet\", index=False)"
   ]
  }
 ],
 "metadata": {
  "kernelspec": {
   "display_name": "auto-classif-data",
   "language": "python",
   "name": "python3"
  },
  "language_info": {
   "codemirror_mode": {
    "name": "ipython",
    "version": 3
   },
   "file_extension": ".py",
   "mimetype": "text/x-python",
   "name": "python",
   "nbconvert_exporter": "python",
   "pygments_lexer": "ipython3",
   "version": "3.13.3"
  }
 },
 "nbformat": 4,
 "nbformat_minor": 5
}
